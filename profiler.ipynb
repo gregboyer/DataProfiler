{
 "cells": [
  {
   "cell_type": "markdown",
   "metadata": {},
   "source": [
    "### Import Packages"
   ]
  },
  {
   "cell_type": "code",
   "execution_count": 1,
   "metadata": {
    "collapsed": true
   },
   "outputs": [],
   "source": [
    "import pandas as pd"
   ]
  },
  {
   "cell_type": "markdown",
   "metadata": {},
   "source": [
    "### Create Data Source"
   ]
  },
  {
   "cell_type": "markdown",
   "metadata": {},
   "source": [
    "Ideally, this should be parameterized so that you can specify a file type, path, and options for importing"
   ]
  },
  {
   "cell_type": "code",
   "execution_count": 2,
   "metadata": {
    "collapsed": true
   },
   "outputs": [],
   "source": [
    "def import_data(file_type, file_path):\n",
    "    \"\"\"\n",
    "    Imports data into a dataframe\n",
    "    file_type: str, defines the type of file, currently only supports csv\n",
    "    file_path: str, file path of file to be used\n",
    "    \"\"\"\n",
    "    if file_type == 'csv':\n",
    "        df = pd.read_csv(file_path)\n",
    "    return df"
   ]
  },
  {
   "cell_type": "code",
   "execution_count": 163,
   "metadata": {
    "collapsed": true
   },
   "outputs": [],
   "source": [
    "#df again outside of function\n",
    "df = import_data('csv','datasets/TestFile/TestFile.csv')"
   ]
  },
  {
   "cell_type": "markdown",
   "metadata": {},
   "source": [
    "### View Sample Data"
   ]
  },
  {
   "cell_type": "code",
   "execution_count": 4,
   "metadata": {
    "scrolled": false
   },
   "outputs": [
    {
     "name": "stdout",
     "output_type": "stream",
     "text": [
      "          Employee Name Employee Status      Salary  Pay Basis  \\\n",
      "0       Abrams, Adam W.        Employee   $66300.00  Per Annum   \n",
      "1         Adams, Ian H.        Employee   $45000.00  Per Annum   \n",
      "2       Agnew, David P.        Employee   $93840.00  Per Annum   \n",
      "3        Albino, James         Employee   $91800.00  Per Annum   \n",
      "4  Aldy, Jr., Joseph E.        Employee  $130500.00  Per Annum   \n",
      "\n",
      "                                      Position Title  \n",
      "0           WESTERN REGIONAL COMMUNICATIONS DIRECTOR  \n",
      "1  EXECUTIVE ASSISTANT TO THE DIRECTOR OF SCHEDUL...  \n",
      "2       DEPUTY DIRECTOR OF INTERGOVERNMENTAL AFFAIRS  \n",
      "3                             SENIOR PROGRAM MANAGER  \n",
      "4  SPECIAL ASSISTANT TO THE PRESIDENT FOR ENERGY ...  \n"
     ]
    }
   ],
   "source": [
    "print(df.head())"
   ]
  },
  {
   "cell_type": "markdown",
   "metadata": {},
   "source": [
    "### Get general statistics in case this is helpful"
   ]
  },
  {
   "cell_type": "code",
   "execution_count": 5,
   "metadata": {},
   "outputs": [
    {
     "data": {
      "text/plain": [
       "(469, 5)"
      ]
     },
     "execution_count": 5,
     "metadata": {},
     "output_type": "execute_result"
    }
   ],
   "source": [
    "df.shape\n"
   ]
  },
  {
   "cell_type": "markdown",
   "metadata": {},
   "source": [
    "### Define functions"
   ]
  },
  {
   "cell_type": "code",
   "execution_count": 41,
   "metadata": {
    "collapsed": true
   },
   "outputs": [],
   "source": [
    "def get_data_type(col):\n",
    "    \"\"\"\n",
    "    Determines the datatype of a column in the dataframe. Begins with what pandas provides,\n",
    "    and expands. In future, should return a \"subtype\", like a string that is currency. This\n",
    "    may then be useful for modifying data, such as turning currency into float. Is float\n",
    "    really float or is it int with empty decimals?\n",
    "    \n",
    "    If no values are found at all, defaults to Float64, so when count=count_null should change data_type\n",
    "    to [none], but still keep in mind that for purposes of df is still float. At this point, all values\n",
    "    should be set to \"NA\" and field flag as empty set.\n",
    "    \n",
    "    col: index of column being analyzed\n",
    "    \"\"\"\n",
    "    data_type = df.dtypes[col]\n",
    "    \n",
    "    return data_type"
   ]
  },
  {
   "cell_type": "code",
   "execution_count": 93,
   "metadata": {},
   "outputs": [],
   "source": [
    "def check_for_nulls(col):\n",
    "    \"\"\"\n",
    "    Determines if column has null data\n",
    "    \"\"\"\n",
    "    has_nulls = df.shape[0] != df[df.columns[col]].count()\n",
    "    \n",
    "      #.count only includes non-nulls\n",
    "    return has_nulls"
   ]
  },
  {
   "cell_type": "code",
   "execution_count": 185,
   "metadata": {
    "collapsed": true
   },
   "outputs": [],
   "source": [
    "def check_for_blanks(col):\n",
    "    \"\"\"\n",
    "    Determines if field has any blanks. \n",
    "    \"\"\"\n",
    "    if data_type == 'object':\n",
    "        if any(df[df.columns[col]].str.strip() == ''):\n",
    "            has_blanks = 'True'\n",
    "        else:\n",
    "            has_blanks = 'False'\n",
    "    else:\n",
    "        has_blanks = 'NA'\n",
    "    \n",
    "    return has_blanks"
   ]
  },
  {
   "cell_type": "code",
   "execution_count": 147,
   "metadata": {},
   "outputs": [],
   "source": [
    "def get_length(col):\n",
    "    \"\"\"\n",
    "    provides length information for column\n",
    "    \"\"\"\n",
    "    if data_type == 'object':\n",
    "        max_length = df[df.columns[col]].str.len().max()\n",
    "        min_length = df[df.columns[col]].str.len().min()\n",
    "    else:\n",
    "        max_length = 'NA'\n",
    "        min_length = 'NA'\n",
    "    \n",
    "    return min_length, max_length    \n",
    "\n"
   ]
  },
  {
   "cell_type": "code",
   "execution_count": 188,
   "metadata": {},
   "outputs": [],
   "source": [
    "def get_min_max(col):\n",
    "    \"\"\"\n",
    "    provides min/max information for column\n",
    "    \"\"\"\n",
    "    if data_type in ('int64', 'datetime64[ns]', 'float64') :\n",
    "    \n",
    "        max_value = df[df.columns[col]].max() \n",
    "        min_value = df[df.columns[col]].min() \n",
    "    else:\n",
    "        max_value = 'NA'\n",
    "        min_value = 'NA'\n",
    "    \n",
    "    return min_value, max_value"
   ]
  },
  {
   "cell_type": "markdown",
   "metadata": {},
   "source": [
    "### Compile results"
   ]
  },
  {
   "cell_type": "code",
   "execution_count": 189,
   "metadata": {
    "scrolled": true
   },
   "outputs": [
    {
     "data": {
      "text/html": [
       "<div>\n",
       "<style>\n",
       "    .dataframe thead tr:only-child th {\n",
       "        text-align: right;\n",
       "    }\n",
       "\n",
       "    .dataframe thead th {\n",
       "        text-align: left;\n",
       "    }\n",
       "\n",
       "    .dataframe tbody tr th {\n",
       "        vertical-align: top;\n",
       "    }\n",
       "</style>\n",
       "<table border=\"1\" class=\"dataframe\">\n",
       "  <thead>\n",
       "    <tr style=\"text-align: right;\">\n",
       "      <th></th>\n",
       "      <th>column_name</th>\n",
       "      <th>count_distinct</th>\n",
       "      <th>data_type</th>\n",
       "      <th>has_nulls</th>\n",
       "      <th>has_blanks</th>\n",
       "      <th>min</th>\n",
       "      <th>max</th>\n",
       "      <th>shortest_string</th>\n",
       "      <th>longest_string</th>\n",
       "    </tr>\n",
       "  </thead>\n",
       "  <tbody>\n",
       "    <tr>\n",
       "      <th>0</th>\n",
       "      <td>Employee Name</td>\n",
       "      <td>470</td>\n",
       "      <td>object</td>\n",
       "      <td>False</td>\n",
       "      <td>False</td>\n",
       "      <td>NA</td>\n",
       "      <td>NA</td>\n",
       "      <td>5</td>\n",
       "      <td>30</td>\n",
       "    </tr>\n",
       "    <tr>\n",
       "      <th>1</th>\n",
       "      <td>Employee Status</td>\n",
       "      <td>3</td>\n",
       "      <td>object</td>\n",
       "      <td>False</td>\n",
       "      <td>False</td>\n",
       "      <td>NA</td>\n",
       "      <td>NA</td>\n",
       "      <td>8</td>\n",
       "      <td>20</td>\n",
       "    </tr>\n",
       "    <tr>\n",
       "      <th>2</th>\n",
       "      <td>Salary</td>\n",
       "      <td>120</td>\n",
       "      <td>object</td>\n",
       "      <td>False</td>\n",
       "      <td>False</td>\n",
       "      <td>NA</td>\n",
       "      <td>NA</td>\n",
       "      <td>6</td>\n",
       "      <td>12</td>\n",
       "    </tr>\n",
       "    <tr>\n",
       "      <th>3</th>\n",
       "      <td>Pay Basis</td>\n",
       "      <td>1</td>\n",
       "      <td>object</td>\n",
       "      <td>False</td>\n",
       "      <td>False</td>\n",
       "      <td>NA</td>\n",
       "      <td>NA</td>\n",
       "      <td>9</td>\n",
       "      <td>9</td>\n",
       "    </tr>\n",
       "    <tr>\n",
       "      <th>4</th>\n",
       "      <td>Position Title</td>\n",
       "      <td>269</td>\n",
       "      <td>object</td>\n",
       "      <td>False</td>\n",
       "      <td>False</td>\n",
       "      <td>NA</td>\n",
       "      <td>NA</td>\n",
       "      <td>6</td>\n",
       "      <td>128</td>\n",
       "    </tr>\n",
       "    <tr>\n",
       "      <th>5</th>\n",
       "      <td>Test Col_Has_Nulls</td>\n",
       "      <td>0</td>\n",
       "      <td>float64</td>\n",
       "      <td>True</td>\n",
       "      <td>NA</td>\n",
       "      <td>NaN</td>\n",
       "      <td>NaN</td>\n",
       "      <td>NA</td>\n",
       "      <td>NA</td>\n",
       "    </tr>\n",
       "    <tr>\n",
       "      <th>6</th>\n",
       "      <td>Test Col_Has_Blanks</td>\n",
       "      <td>2</td>\n",
       "      <td>object</td>\n",
       "      <td>True</td>\n",
       "      <td>True</td>\n",
       "      <td>NA</td>\n",
       "      <td>NA</td>\n",
       "      <td>1</td>\n",
       "      <td>3</td>\n",
       "    </tr>\n",
       "    <tr>\n",
       "      <th>7</th>\n",
       "      <td>Test_Col_Float</td>\n",
       "      <td>120</td>\n",
       "      <td>float64</td>\n",
       "      <td>False</td>\n",
       "      <td>NA</td>\n",
       "      <td>0</td>\n",
       "      <td>179700</td>\n",
       "      <td>NA</td>\n",
       "      <td>NA</td>\n",
       "    </tr>\n",
       "    <tr>\n",
       "      <th>8</th>\n",
       "      <td>Test_Col_Int</td>\n",
       "      <td>120</td>\n",
       "      <td>int64</td>\n",
       "      <td>False</td>\n",
       "      <td>NA</td>\n",
       "      <td>0</td>\n",
       "      <td>179700</td>\n",
       "      <td>NA</td>\n",
       "      <td>NA</td>\n",
       "    </tr>\n",
       "  </tbody>\n",
       "</table>\n",
       "</div>"
      ],
      "text/plain": [
       "           column_name  count_distinct data_type  has_nulls has_blanks  min  \\\n",
       "0        Employee Name             470    object      False      False   NA   \n",
       "1      Employee Status               3    object      False      False   NA   \n",
       "2               Salary             120    object      False      False   NA   \n",
       "3            Pay Basis               1    object      False      False   NA   \n",
       "4       Position Title             269    object      False      False   NA   \n",
       "5   Test Col_Has_Nulls               0   float64       True         NA  NaN   \n",
       "6  Test Col_Has_Blanks               2    object       True       True   NA   \n",
       "7       Test_Col_Float             120   float64      False         NA    0   \n",
       "8         Test_Col_Int             120     int64      False         NA    0   \n",
       "\n",
       "      max shortest_string longest_string  \n",
       "0      NA               5             30  \n",
       "1      NA               8             20  \n",
       "2      NA               6             12  \n",
       "3      NA               9              9  \n",
       "4      NA               6            128  \n",
       "5     NaN              NA             NA  \n",
       "6      NA               1              3  \n",
       "7  179700              NA             NA  \n",
       "8  179700              NA             NA  "
      ]
     },
     "execution_count": 189,
     "metadata": {},
     "output_type": "execute_result"
    }
   ],
   "source": [
    "results = [] #list to store output\n",
    "\n",
    "col = 0\n",
    "while col <= len(df.columns)-1: \n",
    "    column_name = df.columns[col]\n",
    "    has_nulls = check_for_nulls(col) \n",
    "    count_distinct = df[df.columns[col]].nunique()\n",
    "    data_type=get_data_type(col)\n",
    "    \n",
    "    has_blanks = check_for_blanks(col)\n",
    "    \n",
    "    min_length = get_length(col)[0]\n",
    "    max_length = get_length(col)[1]\n",
    "    \n",
    "    min_value = get_min_max(col)[0]\n",
    "    max_value = get_min_max(col)[1]\n",
    "    \n",
    "\n",
    "    \n",
    "    results.append({'column_name' : column_name,\\\n",
    "                    'count_distinct' : count_distinct,\\\n",
    "                    'data_type' : data_type ,\\\n",
    "                    'has_nulls' : has_nulls, \\\n",
    "                    'has_blanks' : has_blanks,\\\n",
    "                    'min' : min_value,\\\n",
    "                    'max' : max_value,\\\n",
    "                    'shortest_string' : min_length,\\\n",
    "                    'longest_string' : max_length\n",
    "                   }\n",
    "                  )\n",
    "   \n",
    "    col += 1\n",
    "    \n",
    "pd.DataFrame(results, columns=['column_name', 'count_distinct', 'data_type','has_nulls','has_blanks','min','max','shortest_string','longest_string']) #reads the list in a table format"
   ]
  },
  {
   "cell_type": "code",
   "execution_count": null,
   "metadata": {
    "collapsed": true
   },
   "outputs": [],
   "source": []
  }
 ],
 "metadata": {
  "kernelspec": {
   "display_name": "Python 3",
   "language": "python",
   "name": "python3"
  },
  "language_info": {
   "codemirror_mode": {
    "name": "ipython",
    "version": 3
   },
   "file_extension": ".py",
   "mimetype": "text/x-python",
   "name": "python",
   "nbconvert_exporter": "python",
   "pygments_lexer": "ipython3",
   "version": "3.6.1"
  }
 },
 "nbformat": 4,
 "nbformat_minor": 2
}
